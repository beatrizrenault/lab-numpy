{
 "cells": [
  {
   "cell_type": "markdown",
   "metadata": {},
   "source": [
    "# Intrduction to NumPy\n",
    "\n",
    "\n",
    "#### 1. Import NumPy under the name np."
   ]
  },
  {
   "cell_type": "code",
   "execution_count": 87,
   "metadata": {},
   "outputs": [],
   "source": [
    "# your code here\n",
    "import numpy as np\n"
   ]
  },
  {
   "cell_type": "markdown",
   "metadata": {},
   "source": [
    "#### 2. Print your NumPy version."
   ]
  },
  {
   "cell_type": "code",
   "execution_count": 88,
   "metadata": {},
   "outputs": [
    {
     "name": "stdout",
     "output_type": "stream",
     "text": [
      "1.18.1\n"
     ]
    }
   ],
   "source": [
    "# your code here\n",
    "print(np.__version__)"
   ]
  },
  {
   "cell_type": "markdown",
   "metadata": {},
   "source": [
    "#### 3. Generate a 2x3x5 3-dimensional array with random values. Assign the array to variable *a*.\n",
    "**Challenge**: there are at least three easy ways that use numpy to generate random arrays. How many ways can you find?"
   ]
  },
  {
   "cell_type": "code",
   "execution_count": 140,
   "metadata": {},
   "outputs": [],
   "source": [
    "# Method 1\n",
    "a = np.random.random((2,3,5))\n"
   ]
  },
  {
   "cell_type": "code",
   "execution_count": 141,
   "metadata": {},
   "outputs": [],
   "source": [
    "# Method 2"
   ]
  },
  {
   "cell_type": "code",
   "execution_count": 142,
   "metadata": {},
   "outputs": [],
   "source": [
    "# Method 3"
   ]
  },
  {
   "cell_type": "markdown",
   "metadata": {},
   "source": [
    "#### 4. Print *a*.\n"
   ]
  },
  {
   "cell_type": "code",
   "execution_count": 143,
   "metadata": {},
   "outputs": [
    {
     "name": "stdout",
     "output_type": "stream",
     "text": [
      "[[[0.36109438 0.9323086  0.05103128 0.56726493 0.48840204]\n",
      "  [0.84500275 0.50842526 0.91863467 0.09160719 0.75590224]\n",
      "  [0.82375376 0.64176073 0.92238504 0.69042036 0.90621244]]\n",
      "\n",
      " [[0.80439501 0.63667518 0.95913393 0.21805106 0.55006403]\n",
      "  [0.26976187 0.62559161 0.33368482 0.74186296 0.27330136]\n",
      "  [0.11014065 0.81392957 0.98747112 0.63395839 0.59496968]]]\n"
     ]
    }
   ],
   "source": [
    "# your code here\n",
    "print(a)"
   ]
  },
  {
   "cell_type": "markdown",
   "metadata": {},
   "source": [
    "#### 5. Create a 5x2x3 3-dimensional array with all values equaling 1. Assign the array to variable *b*."
   ]
  },
  {
   "cell_type": "code",
   "execution_count": 157,
   "metadata": {},
   "outputs": [],
   "source": [
    "# your code here\n",
    "b = np.ones((5,2,3), dtype = int)\n"
   ]
  },
  {
   "cell_type": "markdown",
   "metadata": {},
   "source": [
    "#### 6. Print *b*.\n"
   ]
  },
  {
   "cell_type": "code",
   "execution_count": 202,
   "metadata": {},
   "outputs": [
    {
     "name": "stdout",
     "output_type": "stream",
     "text": [
      "[[[1 1 1]\n",
      "  [1 1 1]]\n",
      "\n",
      " [[1 1 1]\n",
      "  [1 1 1]]\n",
      "\n",
      " [[1 1 1]\n",
      "  [1 1 1]]\n",
      "\n",
      " [[1 1 1]\n",
      "  [1 1 1]]\n",
      "\n",
      " [[1 1 1]\n",
      "  [1 1 1]]]\n",
      "(5, 2, 3)\n"
     ]
    }
   ],
   "source": [
    "# your code here\n",
    "print(b)\n"
   ]
  },
  {
   "cell_type": "markdown",
   "metadata": {},
   "source": [
    "#### 7. Do *a* and *b* have the same size? How do you prove that in Python code?"
   ]
  },
  {
   "cell_type": "code",
   "execution_count": 159,
   "metadata": {},
   "outputs": [
    {
     "name": "stdout",
     "output_type": "stream",
     "text": [
      "False\n",
      "True\n"
     ]
    }
   ],
   "source": [
    "# your code here\n",
    "print(a.shape == b.shape)\n",
    "print(a.size == b. size)"
   ]
  },
  {
   "cell_type": "markdown",
   "metadata": {},
   "source": [
    "#### 8. Are you able to add *a* and *b*? Why or why not?\n"
   ]
  },
  {
   "cell_type": "code",
   "execution_count": 160,
   "metadata": {},
   "outputs": [],
   "source": [
    "# your answer here\n",
    "#print(np.add(a,b))\n",
    "#no, they don't have same shape although they have the same size."
   ]
  },
  {
   "cell_type": "markdown",
   "metadata": {},
   "source": [
    "#### 9. Transpose *b* so that it has the same structure of *a* (i.e. become a 2x3x5 array). Assign the transposed array to variable *c*."
   ]
  },
  {
   "cell_type": "code",
   "execution_count": 181,
   "metadata": {
    "scrolled": true
   },
   "outputs": [
    {
     "name": "stdout",
     "output_type": "stream",
     "text": [
      "a (2, 3, 5)\n",
      "b (5, 2, 3)\n",
      "c (2, 3, 5)\n",
      "[[[1.36109438 1.9323086  1.05103128 1.56726493 1.48840204]\n",
      "  [1.84500275 1.50842526 1.91863467 1.09160719 1.75590224]\n",
      "  [1.82375376 1.64176073 1.92238504 1.69042036 1.90621244]]\n",
      "\n",
      " [[1.80439501 1.63667518 1.95913393 1.21805106 1.55006403]\n",
      "  [1.26976187 1.62559161 1.33368482 1.74186296 1.27330136]\n",
      "  [1.11014065 1.81392957 1.98747112 1.63395839 1.59496968]]]\n"
     ]
    }
   ],
   "source": [
    "# your code here\n",
    "\n",
    "c= np.transpose(b, (1,2,0))\n",
    "\n",
    "print(\"a\",a.shape)\n",
    "print(\"b\",b.shape)\n",
    "print(\"c\",c.shape)\n",
    "\n"
   ]
  },
  {
   "cell_type": "markdown",
   "metadata": {},
   "source": [
    "#### 10. Try to add *a* and *c*. Now it should work. Assign the sum to variable *d*. But why does it work now?"
   ]
  },
  {
   "cell_type": "code",
   "execution_count": 183,
   "metadata": {},
   "outputs": [
    {
     "name": "stdout",
     "output_type": "stream",
     "text": [
      "[[[1.36109438 1.9323086  1.05103128 1.56726493 1.48840204]\n",
      "  [1.84500275 1.50842526 1.91863467 1.09160719 1.75590224]\n",
      "  [1.82375376 1.64176073 1.92238504 1.69042036 1.90621244]]\n",
      "\n",
      " [[1.80439501 1.63667518 1.95913393 1.21805106 1.55006403]\n",
      "  [1.26976187 1.62559161 1.33368482 1.74186296 1.27330136]\n",
      "  [1.11014065 1.81392957 1.98747112 1.63395839 1.59496968]]]\n"
     ]
    }
   ],
   "source": [
    "# your code/answer here\n",
    "d = a+c\n",
    "print(d)\n",
    "#have same shape, have the same size."
   ]
  },
  {
   "cell_type": "markdown",
   "metadata": {},
   "source": [
    "#### 11. Print *a* and *d*. Notice the difference and relation of the two array in terms of the values? Explain."
   ]
  },
  {
   "cell_type": "code",
   "execution_count": 185,
   "metadata": {},
   "outputs": [
    {
     "name": "stdout",
     "output_type": "stream",
     "text": [
      "a\n",
      "[[[0.36109438 0.9323086  0.05103128 0.56726493 0.48840204]\n",
      "  [0.84500275 0.50842526 0.91863467 0.09160719 0.75590224]\n",
      "  [0.82375376 0.64176073 0.92238504 0.69042036 0.90621244]]\n",
      "\n",
      " [[0.80439501 0.63667518 0.95913393 0.21805106 0.55006403]\n",
      "  [0.26976187 0.62559161 0.33368482 0.74186296 0.27330136]\n",
      "  [0.11014065 0.81392957 0.98747112 0.63395839 0.59496968]]]\n",
      "d\n",
      "[[[1.36109438 1.9323086  1.05103128 1.56726493 1.48840204]\n",
      "  [1.84500275 1.50842526 1.91863467 1.09160719 1.75590224]\n",
      "  [1.82375376 1.64176073 1.92238504 1.69042036 1.90621244]]\n",
      "\n",
      " [[1.80439501 1.63667518 1.95913393 1.21805106 1.55006403]\n",
      "  [1.26976187 1.62559161 1.33368482 1.74186296 1.27330136]\n",
      "  [1.11014065 1.81392957 1.98747112 1.63395839 1.59496968]]]\n"
     ]
    }
   ],
   "source": [
    "# your code/answer here\n",
    "print(\"a\")\n",
    "print(a)\n",
    "print(\"d\")\n",
    "print(d)"
   ]
  },
  {
   "cell_type": "markdown",
   "metadata": {},
   "source": [
    "#### 12. Multiply *a* and *c*. Assign the result to *e*."
   ]
  },
  {
   "cell_type": "code",
   "execution_count": 186,
   "metadata": {},
   "outputs": [
    {
     "name": "stdout",
     "output_type": "stream",
     "text": [
      "[[[0.49148354 1.80150794 0.05363547 0.88905442 0.72693859]\n",
      "  [1.55903239 0.7669215  1.76252432 0.09999906 1.32729043]\n",
      "  [1.50232401 1.05361757 1.77317921 1.16710064 1.72743344]]\n",
      "\n",
      " [[1.45144634 1.04203047 1.87907184 0.26559732 0.85263447]\n",
      "  [0.34253333 1.01695648 0.44503038 1.29222361 0.34799499]\n",
      "  [0.12227161 1.47641092 1.96257032 1.03586164 0.94895859]]]\n"
     ]
    }
   ],
   "source": [
    "# your code heree \n",
    "e = a*d\n",
    "print(e)"
   ]
  },
  {
   "cell_type": "markdown",
   "metadata": {},
   "source": [
    "#### 13. Does *e* equal to *a*? Why or why not?\n"
   ]
  },
  {
   "cell_type": "code",
   "execution_count": 188,
   "metadata": {},
   "outputs": [
    {
     "name": "stdout",
     "output_type": "stream",
     "text": [
      "[[[False False False False False]\n",
      "  [False False False False False]\n",
      "  [False False False False False]]\n",
      "\n",
      " [[False False False False False]\n",
      "  [False False False False False]\n",
      "  [False False False False False]]]\n"
     ]
    }
   ],
   "source": [
    "# your code/answer here\n",
    "print(a == e)"
   ]
  },
  {
   "cell_type": "markdown",
   "metadata": {},
   "source": [
    "#### 14. Identify the max, min, and mean values in *d*. Assign those values to variables *d_max*, *d_min* and *d_mean*."
   ]
  },
  {
   "cell_type": "code",
   "execution_count": 192,
   "metadata": {},
   "outputs": [
    {
     "name": "stdout",
     "output_type": "stream",
     "text": [
      "1.9874711168053014\n",
      "1.0510312815962928\n",
      "1.6019065637931549\n"
     ]
    }
   ],
   "source": [
    "# your code here\n",
    "d_max = np.max(d)\n",
    "d_min =np.min(d)\n",
    "d_mean = np.mean(d)\n",
    "\n",
    "print(d_max)\n",
    "print(d_min)\n",
    "print(d_mean)\n",
    "\n"
   ]
  },
  {
   "cell_type": "markdown",
   "metadata": {},
   "source": [
    "#### 15. Now we want to label the values in *d*. First create an empty array *f* with the same shape (i.e. 2x3x5) as *d* using `np.empty`.\n"
   ]
  },
  {
   "cell_type": "code",
   "execution_count": 201,
   "metadata": {},
   "outputs": [
    {
     "name": "stdout",
     "output_type": "stream",
     "text": [
      "(2, 3, 5)\n",
      "[[[0. 0. 0. 0. 0.]\n",
      "  [0. 0. 0. 0. 0.]\n",
      "  [0. 0. 0. 0. 0.]]\n",
      "\n",
      " [[0. 0. 0. 0. 0.]\n",
      "  [0. 0. 0. 0. 0.]\n",
      "  [0. 0. 0. 0. 0.]]]\n"
     ]
    }
   ],
   "source": [
    "# your code here\n",
    "print(d.shape)\n",
    "\n",
    "#the one below did not work\n",
    "#f = np.empty([2,3,5])\n",
    "#print(f)\n",
    "\n",
    "f = np.zeros([2,3,5])\n",
    "print(f)"
   ]
  },
  {
   "cell_type": "markdown",
   "metadata": {},
   "source": [
    "#### 16. Populate the values in *f*. \n",
    "\n",
    "For each value in *d*, if it's larger than *d_min* but smaller than *d_mean*, assign 25 to the corresponding value in *f*. If a value in *d* is larger than *d_mean* but smaller than *d_max*, assign 75 to the corresponding value in *f*. If a value equals to *d_mean*, assign 50 to the corresponding value in *f*. Assign 0 to the corresponding value(s) in *f* for *d_min* in *d*. Assign 100 to the corresponding value(s) in *f* for *d_max* in *d*. In the end, f should have only the following values: 0, 25, 50, 75, and 100.\n",
    "\n",
    "**Note**: you don't have to use Numpy in this question."
   ]
  },
  {
   "cell_type": "code",
   "execution_count": 221,
   "metadata": {},
   "outputs": [
    {
     "name": "stdout",
     "output_type": "stream",
     "text": [
      "[[[ 25.  75.   0.  25.  25.]\n",
      "  [ 75.  25.  75.  25.  75.]\n",
      "  [ 75.  75.  75.  75.  75.]]\n",
      "\n",
      " [[ 75.  75.  75.  25.  25.]\n",
      "  [ 25.  75.  25.  75.  25.]\n",
      "  [ 25.  75. 100.  75.  25.]]]\n"
     ]
    }
   ],
   "source": [
    "# your code here\n",
    "#Marie's code\n",
    "#print(d)\n",
    "\n",
    "#for understanding purposes\n",
    "#for x in range(d.shape[0]): \n",
    "#    for y in range(d.shape[1]):\n",
    "#        for z in range(d.shape[2]):\n",
    "#            print([x,y,z])\n",
    "        \n",
    "for x in range(d.shape[0]): #dimension. without the zero, shape would be 2,3,5. \n",
    "    #Asking for the index 0, it gives me 2. The other \"for loops\" get me the final value.\n",
    "    for y in range(d.shape[1]): #row\n",
    "        for z in range(d.shape[2]): #column\n",
    "            if d[x,y,z] > d_min and d[x,y,z] < d_mean:\n",
    "                f[x,y,z] = 25\n",
    "            elif d[x,y,z] > d_mean and d[x,y,z] < d_max:\n",
    "                f[x,y,z] = 75\n",
    "            elif d[x,y,z] == d_mean:\n",
    "                f[x,y,z] = 50\n",
    "            elif d[x,y,z] == d_max:\n",
    "                f[x,y,z] = 100\n",
    "            else:\n",
    "                f[x,y,z] = 0\n",
    "print(f)\n",
    "    \n",
    "#i in d if d_min < i < d_mean, i =25\n",
    "#i in d if d_mean < i < d_max, i =75\n",
    "#i in d if i == d_mean, i = 50\n",
    "#d_min = 0\n",
    "#d_max = 100"
   ]
  },
  {
   "cell_type": "markdown",
   "metadata": {},
   "source": [
    "#### 17. Print *d* and *f*. Do you have your expected *f*?\n",
    "For instance, if your *d* is:\n",
    "```python\n",
    "[[[1.85836099, 1.67064465, 1.62576044, 1.40243961, 1.88454931],\n",
    "[1.75354326, 1.69403643, 1.36729252, 1.61415071, 1.12104981],\n",
    "[1.72201435, 1.1862918 , 1.87078449, 1.7726778 , 1.88180042]],\n",
    "[[1.44747908, 1.31673383, 1.02000951, 1.52218947, 1.97066381],\n",
    "[1.79129243, 1.74983003, 1.96028037, 1.85166831, 1.65450881],\n",
    "[1.18068344, 1.9587381 , 1.00656599, 1.93402165, 1.73514584]]]\n",
    "```\n",
    "Your *f* should be:\n",
    "```python\n",
    "[[[ 75.,  75.,  75.,  25.,  75.],\n",
    "[ 75.,  75.,  25.,  25.,  25.],\n",
    "[ 75.,  25.,  75.,  75.,  75.]],\n",
    "[[ 25.,  25.,  25.,  25., 100.],\n",
    "[ 75.,  75.,  75.,  75.,  75.],\n",
    "[ 25.,  75.,   0.,  75.,  75.]]]\n",
    "```"
   ]
  },
  {
   "cell_type": "code",
   "execution_count": null,
   "metadata": {},
   "outputs": [],
   "source": [
    "# your code here"
   ]
  },
  {
   "cell_type": "markdown",
   "metadata": {},
   "source": [
    "#### 18. Bonus question: instead of using numbers (i.e. 0, 25, 50, 75, and 100), use string values  (\"A\", \"B\", \"C\", \"D\", and \"E\") to label the array elements. For the example above, the expected result is:\n",
    "\n",
    "```python\n",
    "[[[ 'D',  'D',  'D',  'B',  'D'],\n",
    "[ 'D',  'D',  'B',  'B',  'B'],\n",
    "[ 'D',  'B',  'D',  'D',  'D']],\n",
    "[[ 'B',  'B',  'B',  'B',  'E'],\n",
    "[ 'D',  'D',  'D',  'D',  'D'],\n",
    "[ 'B',  'D',   'A',  'D', 'D']]]\n",
    "```\n",
    "**Note**: you don't have to use Numpy in this question."
   ]
  },
  {
   "cell_type": "code",
   "execution_count": 233,
   "metadata": {},
   "outputs": [
    {
     "name": "stdout",
     "output_type": "stream",
     "text": [
      "[[['B' 'D' 'E' 'B' 'B']\n",
      "  ['D' 'B' 'D' 'B' 'D']\n",
      "  ['D' 'D' 'D' 'D' 'D']]\n",
      "\n",
      " [['D' 'D' 'D' 'B' 'B']\n",
      "  ['B' 'D' 'B' 'D' 'B']\n",
      "  ['B' 'D' 'E' 'D' 'B']]]\n"
     ]
    }
   ],
   "source": [
    "# your code here\n",
    "\n",
    "# your code here\n",
    "#Marie's code\n",
    "#print(d)\n",
    "\n",
    "#arr = np.array([-3-2-1,0,1,2,3,4,5,6])\n",
    "#new_arr = np.zeros(shape = arr.shape, dtype=np.str)\n",
    "\n",
    "#new_arr[(arr>3)] = 'S'\n",
    "#new_arr[((arr>=-3) & (arr<=-1))] = 'F'\n",
    "#new_arr[((arr>=0)&(arr<=3))] = 'M'\n",
    "#new_arr\n",
    "#array(['', 'M', 'M', 'M', 'M', 'S', 'S', 'S'], dtype='<U1')\n",
    "\n",
    "#for understanding purposes\n",
    "\n",
    "new_arrf = np.zeros(shape = f.shape, dtype=np.str)\n",
    "for x in range(f.shape[0]):  \n",
    "    for y in range(f.shape[1]):\n",
    "        for z in range(f.shape[2]):\n",
    "            if f[x,y,z] == 25:\n",
    "                new_arrf[x,y,z] = 'B'\n",
    "            elif f[x,y,z] == 75:\n",
    "                new_arrf[x,y,z] = 'D'\n",
    "            elif f[x,y,z] == 50:\n",
    "                new_arrf[x,y,z] = 'C'\n",
    "            elif f[x,y,z] == 50:\n",
    "                new_arrf[x,y,z] = 'A'\n",
    "            else:\n",
    "                new_arrf[x,y,z] = 'E'\n",
    "print(new_arrf)\n",
    "    \n",
    "#i in d if d_min < i < d_mean, i =25\n",
    "#i in d if d_mean < i < d_max, i =75\n",
    "#i in d if i == d_mean, i = 50\n",
    "#d_min = 0\n",
    "#d_max = 100"
   ]
  },
  {
   "cell_type": "code",
   "execution_count": null,
   "metadata": {},
   "outputs": [],
   "source": []
  }
 ],
 "metadata": {
  "kernelspec": {
   "display_name": "Python 3",
   "language": "python",
   "name": "python3"
  },
  "language_info": {
   "codemirror_mode": {
    "name": "ipython",
    "version": 3
   },
   "file_extension": ".py",
   "mimetype": "text/x-python",
   "name": "python",
   "nbconvert_exporter": "python",
   "pygments_lexer": "ipython3",
   "version": "3.7.4"
  }
 },
 "nbformat": 4,
 "nbformat_minor": 2
}
